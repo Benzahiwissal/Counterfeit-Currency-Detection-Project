{
 "cells": [
  {
   "cell_type": "markdown",
   "id": "95ed714d",
   "metadata": {},
   "source": [
    "# Project Template"
   ]
  },
  {
   "cell_type": "markdown",
   "id": "6b81cfac",
   "metadata": {},
   "source": [
    "\n",
    "### Introduction\n",
    "This notebook outlines the methodology and steps involved in the analysis, visualization, and prediction of data. \n",
    "It includes all necessary sections for structuring your project.\n"
   ]
  },
  {
   "cell_type": "markdown",
   "id": "8587fba5",
   "metadata": {},
   "source": [
    "## 1. Setting Up the Environment"
   ]
  },
  {
   "cell_type": "markdown",
   "id": "db041381",
   "metadata": {},
   "source": [
    "### 1.1 Import Required Libraries"
   ]
  },
  {
   "cell_type": "markdown",
   "id": "2f19a079",
   "metadata": {},
   "source": [
    "\n",
    "#### Comments:\n",
    "- In this step, you will import essential libraries like pandas, numpy, matplotlib, seaborn, and scikit-learn.\n"
   ]
  },
  {
   "cell_type": "code",
   "execution_count": 3,
   "id": "9d86cbd9-5edc-4085-8f4a-36a79087d8d6",
   "metadata": {},
   "outputs": [],
   "source": [
    "import pandas as pd\n",
    "import numpy as np\n",
    "import matplotlib.pyplot as plt\n",
    "import seaborn as sns\n",
    "from sklearn.model_selection import train_test_split\n",
    "from sklearn.decomposition import PCA\n",
    "from sklearn.linear_model import LogisticRegression\n"
   ]
  },
  {
   "cell_type": "markdown",
   "id": "0f511db1",
   "metadata": {},
   "source": [
    "### 1.2 Import Helper Functions"
   ]
  },
  {
   "cell_type": "markdown",
   "id": "84c75136",
   "metadata": {},
   "source": [
    "\n",
    "#### Comments:\n",
    "- Define any custom functions or utilities that will be helpful later in the notebook.\n"
   ]
  },
  {
   "cell_type": "markdown",
   "id": "7eb0d091",
   "metadata": {},
   "source": [
    "## 2. Data Preparation"
   ]
  },
  {
   "cell_type": "markdown",
   "id": "99c75846",
   "metadata": {},
   "source": [
    "### 2.1 Import Data"
   ]
  },
  {
   "cell_type": "markdown",
   "id": "7bed4180",
   "metadata": {},
   "source": [
    "\n",
    "#### Comments:\n",
    "- **What to do**: Load the dataset using pandas and inspect the first few rows to understand its structure.\n"
   ]
  },
  {
   "cell_type": "code",
   "execution_count": 5,
   "id": "7ab5dd6e-c0bd-4879-8003-1a966e742b6d",
   "metadata": {},
   "outputs": [],
   "source": [
    "#load data as a data frame \n",
    "data = pd.read_csv('billets.csv', delimiter=';')"
   ]
  },
  {
   "cell_type": "code",
   "execution_count": 9,
   "id": "59da23df-5bd2-41a0-a119-0fafed39ef5f",
   "metadata": {},
   "outputs": [
    {
     "data": {
      "text/html": [
       "<div>\n",
       "<style scoped>\n",
       "    .dataframe tbody tr th:only-of-type {\n",
       "        vertical-align: middle;\n",
       "    }\n",
       "\n",
       "    .dataframe tbody tr th {\n",
       "        vertical-align: top;\n",
       "    }\n",
       "\n",
       "    .dataframe thead th {\n",
       "        text-align: right;\n",
       "    }\n",
       "</style>\n",
       "<table border=\"1\" class=\"dataframe\">\n",
       "  <thead>\n",
       "    <tr style=\"text-align: right;\">\n",
       "      <th></th>\n",
       "      <th>is_genuine</th>\n",
       "      <th>diagonal</th>\n",
       "      <th>height_left</th>\n",
       "      <th>height_right</th>\n",
       "      <th>margin_low</th>\n",
       "      <th>margin_up</th>\n",
       "      <th>length</th>\n",
       "    </tr>\n",
       "  </thead>\n",
       "  <tbody>\n",
       "    <tr>\n",
       "      <th>0</th>\n",
       "      <td>True</td>\n",
       "      <td>171.81</td>\n",
       "      <td>104.86</td>\n",
       "      <td>104.95</td>\n",
       "      <td>4.52</td>\n",
       "      <td>2.89</td>\n",
       "      <td>112.83</td>\n",
       "    </tr>\n",
       "    <tr>\n",
       "      <th>1</th>\n",
       "      <td>True</td>\n",
       "      <td>171.46</td>\n",
       "      <td>103.36</td>\n",
       "      <td>103.66</td>\n",
       "      <td>3.77</td>\n",
       "      <td>2.99</td>\n",
       "      <td>113.09</td>\n",
       "    </tr>\n",
       "    <tr>\n",
       "      <th>2</th>\n",
       "      <td>True</td>\n",
       "      <td>172.69</td>\n",
       "      <td>104.48</td>\n",
       "      <td>103.50</td>\n",
       "      <td>4.40</td>\n",
       "      <td>2.94</td>\n",
       "      <td>113.16</td>\n",
       "    </tr>\n",
       "    <tr>\n",
       "      <th>3</th>\n",
       "      <td>True</td>\n",
       "      <td>171.36</td>\n",
       "      <td>103.91</td>\n",
       "      <td>103.94</td>\n",
       "      <td>3.62</td>\n",
       "      <td>3.01</td>\n",
       "      <td>113.51</td>\n",
       "    </tr>\n",
       "    <tr>\n",
       "      <th>4</th>\n",
       "      <td>True</td>\n",
       "      <td>171.73</td>\n",
       "      <td>104.28</td>\n",
       "      <td>103.46</td>\n",
       "      <td>4.04</td>\n",
       "      <td>3.48</td>\n",
       "      <td>112.54</td>\n",
       "    </tr>\n",
       "  </tbody>\n",
       "</table>\n",
       "</div>"
      ],
      "text/plain": [
       "   is_genuine  diagonal  height_left  height_right  margin_low  margin_up  \\\n",
       "0        True    171.81       104.86        104.95        4.52       2.89   \n",
       "1        True    171.46       103.36        103.66        3.77       2.99   \n",
       "2        True    172.69       104.48        103.50        4.40       2.94   \n",
       "3        True    171.36       103.91        103.94        3.62       3.01   \n",
       "4        True    171.73       104.28        103.46        4.04       3.48   \n",
       "\n",
       "   length  \n",
       "0  112.83  \n",
       "1  113.09  \n",
       "2  113.16  \n",
       "3  113.51  \n",
       "4  112.54  "
      ]
     },
     "execution_count": 9,
     "metadata": {},
     "output_type": "execute_result"
    }
   ],
   "source": [
    "#display the first five lines\n",
    "data.head()"
   ]
  },
  {
   "cell_type": "code",
   "execution_count": 11,
   "id": "dc805d53-aac7-464a-95ad-b981d9582e00",
   "metadata": {},
   "outputs": [
    {
     "name": "stdout",
     "output_type": "stream",
     "text": [
      "Rows: 1500, Columns: 7\n"
     ]
    }
   ],
   "source": [
    "#Data frame shape\n",
    "print(f\"Rows: {data.shape[0]}, Columns: {data.shape[1]}\")"
   ]
  },
  {
   "cell_type": "code",
   "execution_count": 13,
   "id": "8ba16c59-90e9-441e-89de-53e12fc91893",
   "metadata": {},
   "outputs": [
    {
     "name": "stdout",
     "output_type": "stream",
     "text": [
      "<class 'pandas.core.frame.DataFrame'>\n",
      "RangeIndex: 1500 entries, 0 to 1499\n",
      "Data columns (total 7 columns):\n",
      " #   Column        Non-Null Count  Dtype  \n",
      "---  ------        --------------  -----  \n",
      " 0   is_genuine    1500 non-null   bool   \n",
      " 1   diagonal      1500 non-null   float64\n",
      " 2   height_left   1500 non-null   float64\n",
      " 3   height_right  1500 non-null   float64\n",
      " 4   margin_low    1463 non-null   float64\n",
      " 5   margin_up     1500 non-null   float64\n",
      " 6   length        1500 non-null   float64\n",
      "dtypes: bool(1), float64(6)\n",
      "memory usage: 71.9 KB\n"
     ]
    }
   ],
   "source": [
    "#Check data Information \n",
    "data.info()"
   ]
  },
  {
   "cell_type": "markdown",
   "id": "4ea325f7",
   "metadata": {},
   "source": [
    "### 2.2 Handle Missing Values"
   ]
  },
  {
   "cell_type": "markdown",
   "id": "fd5c4b9b",
   "metadata": {},
   "source": [
    "\n",
    "#### Comments:\n",
    "- **What to do**: Handle missing values by filling them with the mean, median, or dropping rows.\n"
   ]
  },
  {
   "cell_type": "code",
   "execution_count": 15,
   "id": "e599d972-fb3a-4256-9e48-216602b14aa3",
   "metadata": {},
   "outputs": [
    {
     "name": "stdout",
     "output_type": "stream",
     "text": [
      "Missing values in each column:\n"
     ]
    },
    {
     "data": {
      "text/plain": [
       "is_genuine       0\n",
       "diagonal         0\n",
       "height_left      0\n",
       "height_right     0\n",
       "margin_low      37\n",
       "margin_up        0\n",
       "length           0\n",
       "dtype: int64"
      ]
     },
     "execution_count": 15,
     "metadata": {},
     "output_type": "execute_result"
    }
   ],
   "source": [
    "# Check for missing values\n",
    "print(\"Missing values in each column:\")\n",
    "data.isnull().sum()"
   ]
  },
  {
   "cell_type": "code",
   "execution_count": 19,
   "id": "31fd3282-6c68-4f7e-8b84-e0bbf176a042",
   "metadata": {},
   "outputs": [
    {
     "name": "stdout",
     "output_type": "stream",
     "text": [
      "      is_genuine  diagonal  height_left  height_right  margin_low  margin_up  \\\n",
      "72          True    171.94       103.89        103.45         NaN       3.25   \n",
      "99          True    171.93       104.07        104.18         NaN       3.14   \n",
      "151         True    172.07       103.80        104.38         NaN       3.02   \n",
      "197         True    171.45       103.66        103.80         NaN       3.62   \n",
      "241         True    171.83       104.14        104.06         NaN       3.02   \n",
      "251         True    171.80       103.26        102.82         NaN       2.95   \n",
      "284         True    171.92       103.83        103.76         NaN       3.23   \n",
      "334         True    171.85       103.70        103.96         NaN       3.00   \n",
      "410         True    172.56       103.72        103.51         NaN       3.12   \n",
      "413         True    172.30       103.66        103.50         NaN       3.16   \n",
      "445         True    172.34       104.42        103.22         NaN       3.01   \n",
      "481         True    171.81       103.53        103.96         NaN       2.71   \n",
      "505         True    172.01       103.97        104.05         NaN       2.98   \n",
      "611         True    171.80       103.68        103.49         NaN       3.30   \n",
      "654         True    171.97       103.69        103.54         NaN       2.70   \n",
      "675         True    171.60       103.85        103.91         NaN       2.56   \n",
      "710         True    172.03       103.97        103.86         NaN       3.07   \n",
      "739         True    172.07       103.74        103.76         NaN       3.09   \n",
      "742         True    172.14       104.06        103.96         NaN       3.24   \n",
      "780         True    172.41       103.95        103.79         NaN       3.13   \n",
      "798         True    171.96       103.84        103.62         NaN       3.01   \n",
      "844         True    171.62       104.14        104.49         NaN       2.99   \n",
      "845         True    172.02       104.21        104.05         NaN       2.90   \n",
      "871         True    171.37       104.07        103.75         NaN       3.07   \n",
      "895         True    171.81       103.68        103.80         NaN       2.98   \n",
      "919         True    171.92       103.68        103.45         NaN       2.58   \n",
      "945         True    172.09       103.74        103.52         NaN       3.02   \n",
      "946         True    171.63       103.87        104.66         NaN       3.27   \n",
      "981         True    172.02       104.23        103.72         NaN       2.99   \n",
      "1076       False    171.57       104.27        104.44         NaN       3.21   \n",
      "1121       False    171.40       104.38        104.19         NaN       3.17   \n",
      "1176       False    171.59       104.05        103.94         NaN       3.02   \n",
      "1303       False    172.17       104.49        103.76         NaN       2.93   \n",
      "1315       False    172.08       104.15        104.17         NaN       3.40   \n",
      "1347       False    171.72       104.46        104.12         NaN       3.61   \n",
      "1435       False    172.66       104.33        104.41         NaN       3.56   \n",
      "1438       False    171.90       104.28        104.29         NaN       3.24   \n",
      "\n",
      "      length  \n",
      "72    112.79  \n",
      "99    113.08  \n",
      "151   112.93  \n",
      "197   113.27  \n",
      "241   112.36  \n",
      "251   113.22  \n",
      "284   113.29  \n",
      "334   113.36  \n",
      "410   112.95  \n",
      "413   112.95  \n",
      "445   112.97  \n",
      "481   113.99  \n",
      "505   113.65  \n",
      "611   112.84  \n",
      "654   112.79  \n",
      "675   113.27  \n",
      "710   112.65  \n",
      "739   112.41  \n",
      "742   113.07  \n",
      "780   113.41  \n",
      "798   114.44  \n",
      "844   113.35  \n",
      "845   113.62  \n",
      "871   113.27  \n",
      "895   113.82  \n",
      "919   113.68  \n",
      "945   112.78  \n",
      "946   112.68  \n",
      "981   113.37  \n",
      "1076  111.87  \n",
      "1121  112.39  \n",
      "1176  111.29  \n",
      "1303  111.21  \n",
      "1315  112.29  \n",
      "1347  110.31  \n",
      "1435  111.47  \n",
      "1438  111.49  \n"
     ]
    }
   ],
   "source": [
    "# Rows where 'margin_low' is null\n",
    "missing_margin_low = data[data['margin_low'].isnull()]\n",
    "print(missing_margin_low)"
   ]
  },
  {
   "cell_type": "code",
   "execution_count": 21,
   "id": "63209beb-57d2-4cc2-aa66-cd62d1cd8cf9",
   "metadata": {},
   "outputs": [
    {
     "name": "stdout",
     "output_type": "stream",
     "text": [
      "Missing values in genuine banknotes: 29\n",
      "Missing values in counterfeit banknotes: 8\n"
     ]
    }
   ],
   "source": [
    "# Separate missing values by `is_genuine`\n",
    "true_missing = data.loc[(data['is_genuine'] == True) & (data['margin_low'].isnull())]\n",
    "false_missing = data.loc[(data['is_genuine'] == False) & (data['margin_low'].isnull())]\n",
    "\n",
    "# Count missing values in each category\n",
    "print(f\"Missing values in genuine banknotes: {true_missing.shape[0]}\")\n",
    "print(f\"Missing values in counterfeit banknotes: {false_missing.shape[0]}\")"
   ]
  },
  {
   "cell_type": "markdown",
   "id": "22e25da8",
   "metadata": {},
   "source": [
    "### 2.3 Check Data Quality"
   ]
  },
  {
   "cell_type": "markdown",
   "id": "16db71bb",
   "metadata": {},
   "source": [
    "\n",
    "#### Comments:\n",
    "- **What to do**: Check the data for distributions, unique values, duplicates, and consistency.\n"
   ]
  },
  {
   "cell_type": "code",
   "execution_count": null,
   "id": "7e568b20-929a-4fdd-958b-4f32051f94bb",
   "metadata": {},
   "outputs": [],
   "source": []
  },
  {
   "cell_type": "markdown",
   "id": "04805ecc",
   "metadata": {},
   "source": [
    "## 3. Exploratory Data Analysis (EDA)"
   ]
  },
  {
   "cell_type": "markdown",
   "id": "ab67f6e7",
   "metadata": {},
   "source": [
    "### 3.1 Descriptive Statistics"
   ]
  },
  {
   "cell_type": "markdown",
   "id": "6f5554cc",
   "metadata": {},
   "source": [
    "\n",
    "#### Comments:\n",
    "- **What to do**: Use `describe()` to summarize the basic statistics of the dataset.\n"
   ]
  },
  {
   "cell_type": "code",
   "execution_count": 26,
   "id": "7f4fdacc-2d26-4b1d-aa22-a498f0003bee",
   "metadata": {},
   "outputs": [
    {
     "data": {
      "text/html": [
       "<div>\n",
       "<style scoped>\n",
       "    .dataframe tbody tr th:only-of-type {\n",
       "        vertical-align: middle;\n",
       "    }\n",
       "\n",
       "    .dataframe tbody tr th {\n",
       "        vertical-align: top;\n",
       "    }\n",
       "\n",
       "    .dataframe thead th {\n",
       "        text-align: right;\n",
       "    }\n",
       "</style>\n",
       "<table border=\"1\" class=\"dataframe\">\n",
       "  <thead>\n",
       "    <tr style=\"text-align: right;\">\n",
       "      <th></th>\n",
       "      <th>diagonal</th>\n",
       "      <th>height_left</th>\n",
       "      <th>height_right</th>\n",
       "      <th>margin_low</th>\n",
       "      <th>margin_up</th>\n",
       "      <th>length</th>\n",
       "    </tr>\n",
       "  </thead>\n",
       "  <tbody>\n",
       "    <tr>\n",
       "      <th>count</th>\n",
       "      <td>1500.000000</td>\n",
       "      <td>1500.000000</td>\n",
       "      <td>1500.000000</td>\n",
       "      <td>1463.000000</td>\n",
       "      <td>1500.000000</td>\n",
       "      <td>1500.00000</td>\n",
       "    </tr>\n",
       "    <tr>\n",
       "      <th>mean</th>\n",
       "      <td>171.958440</td>\n",
       "      <td>104.029533</td>\n",
       "      <td>103.920307</td>\n",
       "      <td>4.485967</td>\n",
       "      <td>3.151473</td>\n",
       "      <td>112.67850</td>\n",
       "    </tr>\n",
       "    <tr>\n",
       "      <th>std</th>\n",
       "      <td>0.305195</td>\n",
       "      <td>0.299462</td>\n",
       "      <td>0.325627</td>\n",
       "      <td>0.663813</td>\n",
       "      <td>0.231813</td>\n",
       "      <td>0.87273</td>\n",
       "    </tr>\n",
       "    <tr>\n",
       "      <th>min</th>\n",
       "      <td>171.040000</td>\n",
       "      <td>103.140000</td>\n",
       "      <td>102.820000</td>\n",
       "      <td>2.980000</td>\n",
       "      <td>2.270000</td>\n",
       "      <td>109.49000</td>\n",
       "    </tr>\n",
       "    <tr>\n",
       "      <th>25%</th>\n",
       "      <td>171.750000</td>\n",
       "      <td>103.820000</td>\n",
       "      <td>103.710000</td>\n",
       "      <td>4.015000</td>\n",
       "      <td>2.990000</td>\n",
       "      <td>112.03000</td>\n",
       "    </tr>\n",
       "    <tr>\n",
       "      <th>50%</th>\n",
       "      <td>171.960000</td>\n",
       "      <td>104.040000</td>\n",
       "      <td>103.920000</td>\n",
       "      <td>4.310000</td>\n",
       "      <td>3.140000</td>\n",
       "      <td>112.96000</td>\n",
       "    </tr>\n",
       "    <tr>\n",
       "      <th>75%</th>\n",
       "      <td>172.170000</td>\n",
       "      <td>104.230000</td>\n",
       "      <td>104.150000</td>\n",
       "      <td>4.870000</td>\n",
       "      <td>3.310000</td>\n",
       "      <td>113.34000</td>\n",
       "    </tr>\n",
       "    <tr>\n",
       "      <th>max</th>\n",
       "      <td>173.010000</td>\n",
       "      <td>104.880000</td>\n",
       "      <td>104.950000</td>\n",
       "      <td>6.900000</td>\n",
       "      <td>3.910000</td>\n",
       "      <td>114.44000</td>\n",
       "    </tr>\n",
       "  </tbody>\n",
       "</table>\n",
       "</div>"
      ],
      "text/plain": [
       "          diagonal  height_left  height_right   margin_low    margin_up  \\\n",
       "count  1500.000000  1500.000000   1500.000000  1463.000000  1500.000000   \n",
       "mean    171.958440   104.029533    103.920307     4.485967     3.151473   \n",
       "std       0.305195     0.299462      0.325627     0.663813     0.231813   \n",
       "min     171.040000   103.140000    102.820000     2.980000     2.270000   \n",
       "25%     171.750000   103.820000    103.710000     4.015000     2.990000   \n",
       "50%     171.960000   104.040000    103.920000     4.310000     3.140000   \n",
       "75%     172.170000   104.230000    104.150000     4.870000     3.310000   \n",
       "max     173.010000   104.880000    104.950000     6.900000     3.910000   \n",
       "\n",
       "           length  \n",
       "count  1500.00000  \n",
       "mean    112.67850  \n",
       "std       0.87273  \n",
       "min     109.49000  \n",
       "25%     112.03000  \n",
       "50%     112.96000  \n",
       "75%     113.34000  \n",
       "max     114.44000  "
      ]
     },
     "execution_count": 26,
     "metadata": {},
     "output_type": "execute_result"
    }
   ],
   "source": [
    "data.describe()  # Get summary statistics of the dataset"
   ]
  },
  {
   "cell_type": "markdown",
   "id": "c57ca184",
   "metadata": {},
   "source": [
    "### 3.2 Correlation Study"
   ]
  },
  {
   "cell_type": "markdown",
   "id": "d51ed54e",
   "metadata": {},
   "source": [
    "\n",
    "#### Comments:\n",
    "- **What to do**: Visualize correlations between features using a heatmap.\n"
   ]
  },
  {
   "cell_type": "code",
   "execution_count": 28,
   "id": "1e8034f5-38aa-4b6e-b7cc-1aae33df3d0d",
   "metadata": {},
   "outputs": [
    {
     "data": {
      "image/png": "[encoded data removed]",
      "text/plain": [
       "<Figure size 640x480 with 2 Axes>"
      ]
     },
     "metadata": {},
     "output_type": "display_data"
    }
   ],
   "source": [
    "sns.heatmap(data.corr(), annot=True, cmap='coolwarm')\n",
    "plt.title('Correlation Heatmap')\n",
    "plt.show()\n"
   ]
  },
  {
   "cell_type": "markdown",
   "id": "ac48435d",
   "metadata": {},
   "source": [
    "### 3.3 PCA Projection"
   ]
  },
  {
   "cell_type": "markdown",
   "id": "2f2b8c90",
   "metadata": {},
   "source": [
    "\n",
    "#### Comments:\n",
    "- **What to do**: Apply PCA to reduce the data to two components for visualization.\n"
   ]
  },
  {
   "cell_type": "code",
   "execution_count": 32,
   "id": "8d53e419-01a4-4fdb-9cdb-d531c7679188",
   "metadata": {},
   "outputs": [
    {
     "data": {
      "image/png": "[encoded data removed]",
      "text/plain": [
       "<Figure size 640x480 with 1 Axes>"
      ]
     },
     "metadata": {},
     "output_type": "display_data"
    }
   ],
   "source": [
    "from sklearn.impute import SimpleImputer  \n",
    "\n",
    "# Create an imputer that fills NaN values with the mean of the column  \n",
    "imputer = SimpleImputer(strategy='mean')  \n",
    "data_imputed = imputer.fit_transform(data)  # Impute the missing values  \n",
    "\n",
    "pca = PCA(n_components=2)  # Reduce to two principal components  \n",
    "data_pca = pca.fit_transform(data_imputed)  \n",
    "plt.scatter(data_pca[:, 0], data_pca[:, 1])  # Plot the first two components  \n",
    "plt.title('PCA Projection')  \n",
    "plt.xlabel('PC1')  \n",
    "plt.ylabel('PC2')  \n",
    "plt.show()"
   ]
  },
  {
   "cell_type": "markdown",
   "id": "af831c7e",
   "metadata": {},
   "source": [
    "## 4. Modeling"
   ]
  },
  {
   "cell_type": "markdown",
   "id": "f717bbeb",
   "metadata": {},
   "source": [
    "### 4.1 Logistic Regression"
   ]
  },
  {
   "cell_type": "markdown",
   "id": "4532a302",
   "metadata": {},
   "source": [
    "\n",
    "#### Comments:\n",
    "- **What to do**: Apply Logistic Regression to classify the data.\n"
   ]
  },
  {
   "cell_type": "code",
   "execution_count": null,
   "id": "a2e4be22-4ee2-41c8-a0e3-76e623de7ba8",
   "metadata": {},
   "outputs": [],
   "source": [
    "model = LogisticRegression()\n",
    "X_train, X_test, y_train, y_test = train_test_split(data.drop('target', axis=1), data['target'], test_size=0.3)\n",
    "model.fit(X_train, y_train)\n",
    "y_pred = model.predict(X_test)\n"
   ]
  },
  {
   "cell_type": "markdown",
   "id": "7f03fa3a",
   "metadata": {},
   "source": [
    "### 4.2 Model Evaluation"
   ]
  },
  {
   "cell_type": "markdown",
   "id": "a3abecfd",
   "metadata": {},
   "source": [
    "\n",
    "#### Comments:\n",
    "- **What to do**: Evaluate the model using accuracy, precision, recall, and F1-score.\n"
   ]
  },
  {
   "cell_type": "code",
   "execution_count": null,
   "id": "8834847e-ff43-4465-b1fc-6e63d99f528a",
   "metadata": {},
   "outputs": [],
   "source": [
    "from sklearn.metrics import classification_report\n",
    "print(classification_report(y_test, y_pred))\n"
   ]
  },
  {
   "cell_type": "markdown",
   "id": "a6e9b40b",
   "metadata": {},
   "source": [
    "## 5. Residual Analysis"
   ]
  },
  {
   "cell_type": "markdown",
   "id": "1d4ec1df",
   "metadata": {},
   "source": [
    "### 5.1 Check Normality of Residuals"
   ]
  },
  {
   "cell_type": "markdown",
   "id": "61ab1af0",
   "metadata": {},
   "source": [
    "\n",
    "#### Comments:\n",
    "- **What to do**: Check the residuals to ensure normality by plotting a histogram.\n"
   ]
  },
  {
   "cell_type": "code",
   "execution_count": null,
   "id": "0de4c5a1-2a44-4f38-89e2-3bf07893cf89",
   "metadata": {},
   "outputs": [],
   "source": [
    "residuals = y_test - y_pred  # Calculate residuals\n",
    "sns.histplot(residuals, kde=True)\n",
    "plt.title('Residuals Histogram')\n",
    "plt.show()\n"
   ]
  },
  {
   "cell_type": "markdown",
   "id": "ad55745e",
   "metadata": {},
   "source": [
    "## 6. Advanced Visualizations"
   ]
  },
  {
   "cell_type": "markdown",
   "id": "415bf3df",
   "metadata": {},
   "source": [
    "### 6.1 Hierarchical Clustering"
   ]
  },
  {
   "cell_type": "markdown",
   "id": "214248df",
   "metadata": {},
   "source": [
    "\n",
    "#### Comments:\n",
    "- **What to do**: Apply hierarchical clustering and visualize using a dendrogram.\n"
   ]
  },
  {
   "cell_type": "code",
   "execution_count": null,
   "id": "a63b68a5-7f08-41c3-abbe-ab38c65571b9",
   "metadata": {},
   "outputs": [],
   "source": [
    "from scipy.cluster.hierarchy import dendrogram, linkage\n",
    "linked = linkage(data, method='ward')\n",
    "dendrogram(linked)\n",
    "plt.title('Dendrogram')\n",
    "plt.show()\n"
   ]
  },
  {
   "cell_type": "markdown",
   "id": "0a47db11",
   "metadata": {},
   "source": [
    "## 7. Prediction and Results"
   ]
  },
  {
   "cell_type": "markdown",
   "id": "858f2012",
   "metadata": {},
   "source": [
    "### 7.1 Predict Probabilities"
   ]
  },
  {
   "cell_type": "markdown",
   "id": "4a0a3ea3",
   "metadata": {},
   "source": [
    "\n",
    "#### Comments:\n",
    "- **What to do**: Use the model to predict probabilities for new data points.\n"
   ]
  },
  {
   "cell_type": "code",
   "execution_count": null,
   "id": "3abb9a77-a362-46cc-86cd-f70a0ac09b70",
   "metadata": {},
   "outputs": [],
   "source": [
    "y_prob = model.predict_proba(X_test)[:, 1]  # Get predicted probabilities\n"
   ]
  },
  {
   "cell_type": "markdown",
   "id": "5fe75d7d",
   "metadata": {},
   "source": [
    "## 8. Export and Reporting"
   ]
  },
  {
   "cell_type": "markdown",
   "id": "66a1ada4",
   "metadata": {},
   "source": [
    "### 8.1 Export the Final Dataset"
   ]
  },
  {
   "cell_type": "markdown",
   "id": "b53bb99b",
   "metadata": {},
   "source": [
    "\n",
    "#### Comments:\n",
    "- **What to do**: Export the final dataset with predictions.\n"
   ]
  },
  {
   "cell_type": "code",
   "execution_count": null,
   "id": "fb963178-6f7b-43d6-be69-bcd776f76c84",
   "metadata": {},
   "outputs": [],
   "source": [
    "data['prediction'] = y_pred  # Add predictions to the dataset\n",
    "data.to_csv('final_predictions.csv', index=False)  # Export to CSV\n"
   ]
  }
 ],
 "metadata": {
  "kernelspec": {
   "display_name": "Python 3 (ipykernel)",
   "language": "python",
   "name": "python3"
  },
  "language_info": {
   "codemirror_mode": {
    "name": "ipython",
    "version": 3
   },
   "file_extension": ".py",
   "mimetype": "text/x-python",
   "name": "python",
   "nbconvert_exporter": "python",
   "pygments_lexer": "ipython3",
   "version": "3.12.4"
  }
 },
 "nbformat": 4,
 "nbformat_minor": 5
}
