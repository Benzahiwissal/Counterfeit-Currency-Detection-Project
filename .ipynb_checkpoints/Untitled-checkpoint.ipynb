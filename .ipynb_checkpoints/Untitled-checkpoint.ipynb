{
 "cells": [
  {
   "cell_type": "code",
   "execution_count": 5,
   "id": "f5a25c06-745e-4c9b-bd3d-8eccd9c7ecf6",
   "metadata": {},
   "outputs": [
    {
     "name": "stdin",
     "output_type": "stream",
     "text": [
      "Tapez 1 pour dire Bonjour et 2 pour dire Bonsoir:  1\n"
     ]
    },
    {
     "name": "stdout",
     "output_type": "stream",
     "text": [
      "Bonjour Bob\n",
      "Bonjour Bob\n",
      "Bonjour Bob\n",
      "Bonjour Bob\n",
      "Bonjour Bob\n"
     ]
    }
   ],
   "source": [
    "def direBonjourOuBonsoir(nombreDeFois, prenom):\n",
    "    choix = input(\"Tapez 1 pour dire Bonjour et 2 pour dire Bonsoir: \")\n",
    "    \n",
    "    if choix == \"1\":\n",
    "        i = 0\n",
    "        while i < nombreDeFois:\n",
    "            print(f\"Bonjour {prenom}\")\n",
    "            i = i + 1\n",
    "    elif choix == \"2\":\n",
    "        for i in range(nombreDeFois):\n",
    "            print(f\"Bonsoir {prenom}\")\n",
    "    else:\n",
    "        print(\"Je n'ai pas compris votre choix\")\n",
    "\n",
    "\n",
    "direBonjourOuBonsoir(5, \"Bob\")"
   ]
  },
  {
   "cell_type": "code",
   "execution_count": null,
   "id": "a22d79a5-2fe8-4110-95c0-135bc0e589dd",
   "metadata": {},
   "outputs": [],
   "source": []
  }
 ],
 "metadata": {
  "kernelspec": {
   "display_name": "Python 3 (ipykernel)",
   "language": "python",
   "name": "python3"
  },
  "language_info": {
   "codemirror_mode": {
    "name": "ipython",
    "version": 3
   },
   "file_extension": ".py",
   "mimetype": "text/x-python",
   "name": "python",
   "nbconvert_exporter": "python",
   "pygments_lexer": "ipython3",
   "version": "3.12.4"
  }
 },
 "nbformat": 4,
 "nbformat_minor": 5
}
